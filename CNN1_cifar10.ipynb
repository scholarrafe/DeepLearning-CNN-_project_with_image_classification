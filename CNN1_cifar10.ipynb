{
 "cells": [
  {
   "cell_type": "code",
   "execution_count": 1,
   "id": "c444a0ce-af1e-44b5-87da-86e29c511610",
   "metadata": {},
   "outputs": [
    {
     "name": "stdout",
     "output_type": "stream",
     "text": [
      "WARNING:tensorflow:From C:\\Python\\Python10\\lib\\site-packages\\keras\\src\\losses.py:2976: The name tf.losses.sparse_softmax_cross_entropy is deprecated. Please use tf.compat.v1.losses.sparse_softmax_cross_entropy instead.\n",
      "\n"
     ]
    }
   ],
   "source": [
    "import tensorflow as tf\n",
    "from tensorflow.keras import datasets, layers, models, Sequential\n",
    "from keras import layers\n",
    "from keras.layers import Dense, Flatten\n",
    "import matplotlib.pyplot as plt\n",
    "import pandas as pd"
   ]
  },
  {
   "cell_type": "code",
   "execution_count": 31,
   "id": "30a08e3e-d268-4fa3-b899-855ed6f16d7f",
   "metadata": {},
   "outputs": [],
   "source": [
    "(x_train,y_train), (x_test,y_test) = datasets.cifar10.load_data()"
   ]
  },
  {
   "cell_type": "code",
   "execution_count": 32,
   "id": "64e6bcb0-fc94-460d-aa2b-1a412790e2dc",
   "metadata": {},
   "outputs": [
    {
     "data": {
      "text/plain": [
       "(50000, 32, 32, 3)"
      ]
     },
     "execution_count": 32,
     "metadata": {},
     "output_type": "execute_result"
    }
   ],
   "source": [
    "x_train.shape"
   ]
  },
  {
   "cell_type": "code",
   "execution_count": 33,
   "id": "2dee9d5c-928e-42af-bf6c-1149c8274ab1",
   "metadata": {},
   "outputs": [],
   "source": [
    "y_train = y_train.ravel()"
   ]
  },
  {
   "cell_type": "code",
   "execution_count": 34,
   "id": "eacd069d-613c-4937-8208-3b845a31f7da",
   "metadata": {},
   "outputs": [],
   "source": [
    "classes = ['airplane', 'automobile', 'bird', 'cat', 'deer', 'dog', 'frog', 'horse', 'ship', 'truck']"
   ]
  },
  {
   "cell_type": "code",
   "execution_count": 35,
   "id": "62b6d399-657a-43d3-b480-ef7b8cd65881",
   "metadata": {},
   "outputs": [],
   "source": [
    "def plot_by_index(x,y,index):\n",
    "    plt.imshow(x[index])\n",
    "    plt.xlabel(classes[y[index]])\n",
    "    plt.show()"
   ]
  },
  {
   "cell_type": "code",
   "execution_count": 36,
   "id": "50b9c521-d0fa-4da6-80a1-59ec6fa5f6fa",
   "metadata": {},
   "outputs": [
    {
     "data": {
      "image/png": "[encoded data removed]",
      "text/plain": [
       "<Figure size 640x480 with 1 Axes>"
      ]
     },
     "metadata": {},
     "output_type": "display_data"
    }
   ],
   "source": [
    "plot_by_index(x_train,y_train,12511)"
   ]
  },
  {
   "cell_type": "code",
   "execution_count": 37,
   "id": "2043cc7c-a46a-49d1-a3c6-30c7dfec979d",
   "metadata": {},
   "outputs": [],
   "source": [
    "x_train_scaled = x_train/255\n",
    "x_test_scaled = x_test/255"
   ]
  },
  {
   "cell_type": "code",
   "execution_count": 38,
   "id": "e786ebf7-cfae-4bd5-ba89-e173368c16c3",
   "metadata": {},
   "outputs": [
    {
     "data": {
      "image/png": "[encoded data removed]",
      "text/plain": [
       "<Figure size 640x480 with 1 Axes>"
      ]
     },
     "metadata": {},
     "output_type": "display_data"
    }
   ],
   "source": [
    "plot_by_index(x_train_scaled, y_train, 100)"
   ]
  },
  {
   "cell_type": "code",
   "execution_count": 39,
   "id": "3b78993c-184b-4c49-9ead-3eea103ba5d7",
   "metadata": {},
   "outputs": [],
   "source": [
    "from keras.layers import Dense, Flatten\n",
    "from keras import Sequential"
   ]
  },
  {
   "cell_type": "code",
   "execution_count": 40,
   "id": "91ddcd4c-b71b-4710-b273-b082a7bfdf06",
   "metadata": {},
   "outputs": [
    {
     "data": {
      "text/plain": [
       "(32, 32, 3)"
      ]
     },
     "execution_count": 40,
     "metadata": {},
     "output_type": "execute_result"
    }
   ],
   "source": [
    "x_train[0].shape"
   ]
  },
  {
   "cell_type": "code",
   "execution_count": 41,
   "id": "88c0f543-c3b0-452c-8abd-5cecc9477a15",
   "metadata": {},
   "outputs": [
    {
     "name": "stdout",
     "output_type": "stream",
     "text": [
      "Model: \"sequential_3\"\n",
      "_________________________________________________________________\n",
      " Layer (type)                Output Shape              Param #   \n",
      "=================================================================\n",
      " flatten_2 (Flatten)         (None, 3072)              0         \n",
      "                                                                 \n",
      " dense_8 (Dense)             (None, 3000)              9219000   \n",
      "                                                                 \n",
      " dense_9 (Dense)             (None, 1000)              3001000   \n",
      "                                                                 \n",
      " dense_10 (Dense)            (None, 10)                10010     \n",
      "                                                                 \n",
      "=================================================================\n",
      "Total params: 12230010 (46.65 MB)\n",
      "Trainable params: 12230010 (46.65 MB)\n",
      "Non-trainable params: 0 (0.00 Byte)\n",
      "_________________________________________________________________\n"
     ]
    }
   ],
   "source": [
    "model = Sequential()\n",
    "\n",
    "model.add(Flatten(input_shape=x_train[0].shape))\n",
    "model.add(Dense(3000, activation='relu'))\n",
    "model.add(Dense(1000, activation='relu'))\n",
    "model.add(Dense(10, activation='softmax'))\n",
    "model.summary()\n",
    "model.compile(loss='sparse_categorical_crossentropy', optimizer='adam', metrics=['accuracy'])"
   ]
  },
  {
   "cell_type": "code",
   "execution_count": 21,
   "id": "a4a0e8f0-0557-4bf6-9e46-75b8812d7223",
   "metadata": {},
   "outputs": [],
   "source": [
    "model.compile(loss='sparse_categorical_crossentropy', optimizer='adam', metrics=['accuracy'])"
   ]
  },
  {
   "cell_type": "code",
   "execution_count": 22,
   "id": "974a7e82-7107-489a-b9b3-5811429fdfab",
   "metadata": {},
   "outputs": [
    {
     "name": "stdout",
     "output_type": "stream",
     "text": [
      "Epoch 1/5\n",
      "WARNING:tensorflow:From C:\\Python\\Python10\\lib\\site-packages\\keras\\src\\utils\\tf_utils.py:492: The name tf.ragged.RaggedTensorValue is deprecated. Please use tf.compat.v1.ragged.RaggedTensorValue instead.\n",
      "\n",
      "WARNING:tensorflow:From C:\\Python\\Python10\\lib\\site-packages\\keras\\src\\engine\\base_layer_utils.py:384: The name tf.executing_eagerly_outside_functions is deprecated. Please use tf.compat.v1.executing_eagerly_outside_functions instead.\n",
      "\n",
      "1563/1563 [==============================] - 24s 14ms/step - loss: 1.8757 - accuracy: 0.3209\n",
      "Epoch 2/5\n",
      "1563/1563 [==============================] - 22s 14ms/step - loss: 1.6972 - accuracy: 0.3906\n",
      "Epoch 3/5\n",
      "1563/1563 [==============================] - 22s 14ms/step - loss: 1.6232 - accuracy: 0.4193\n",
      "Epoch 4/5\n",
      "1563/1563 [==============================] - 22s 14ms/step - loss: 1.5694 - accuracy: 0.4389\n",
      "Epoch 5/5\n",
      "1563/1563 [==============================] - 22s 14ms/step - loss: 1.5336 - accuracy: 0.4545\n"
     ]
    }
   ],
   "source": [
    "history = model.fit(x_train_scaled, y_train, epochs=5)"
   ]
  },
  {
   "cell_type": "code",
   "execution_count": 51,
   "id": "5d46222d-cf75-4d69-af70-37751ddc27f9",
   "metadata": {},
   "outputs": [
    {
     "name": "stdout",
     "output_type": "stream",
     "text": [
      "Model: \"sequential_6\"\n",
      "_________________________________________________________________\n",
      " Layer (type)                Output Shape              Param #   \n",
      "=================================================================\n",
      " conv2d_6 (Conv2D)           (None, 30, 30, 32)        896       \n",
      "                                                                 \n",
      " max_pooling2d_6 (MaxPoolin  (None, 15, 15, 32)        0         \n",
      " g2D)                                                            \n",
      "                                                                 \n",
      " conv2d_7 (Conv2D)           (None, 13, 13, 64)        18496     \n",
      "                                                                 \n",
      " max_pooling2d_7 (MaxPoolin  (None, 6, 6, 64)          0         \n",
      " g2D)                                                            \n",
      "                                                                 \n",
      " flatten_3 (Flatten)         (None, 2304)              0         \n",
      "                                                                 \n",
      " dense_15 (Dense)            (None, 64)                147520    \n",
      "                                                                 \n",
      " dense_16 (Dense)            (None, 10)                650       \n",
      "                                                                 \n",
      "=================================================================\n",
      "Total params: 167562 (654.54 KB)\n",
      "Trainable params: 167562 (654.54 KB)\n",
      "Non-trainable params: 0 (0.00 Byte)\n",
      "_________________________________________________________________\n"
     ]
    }
   ],
   "source": [
    "cnn = models.Sequential([\n",
    "    layers.Conv2D(filters=32, kernel_size=(3,3), activation='relu', input_shape=(32,32,3)),\n",
    "    layers.MaxPooling2D((2,2)),\n",
    "\n",
    "    layers.Conv2D(filters=64, kernel_size=(3,3), activation='relu'),\n",
    "    layers.MaxPooling2D((2,2)),\n",
    "\n",
    "    layers.Flatten(),\n",
    "    layers.Dense(64, activation='relu'),\n",
    "    layers.Dense(10, activation='softmax')\n",
    "])\n",
    "cnn.summary()"
   ]
  },
  {
   "cell_type": "code",
   "execution_count": 52,
   "id": "a2960020-d4ac-4d94-bdd8-8fd17f2b7dcb",
   "metadata": {},
   "outputs": [],
   "source": [
    "cnn.compile(loss='sparse_categorical_crossentropy', optimizer='adam', metrics=['accuracy'])"
   ]
  },
  {
   "cell_type": "code",
   "execution_count": 54,
   "id": "771bdd99-6818-4238-83cc-90bc3890ab85",
   "metadata": {},
   "outputs": [
    {
     "name": "stdout",
     "output_type": "stream",
     "text": [
      "Epoch 1/10\n",
      "1563/1563 [==============================] - 36s 23ms/step - loss: 0.7705 - accuracy: 0.7336\n",
      "Epoch 2/10\n",
      "1563/1563 [==============================] - 38s 24ms/step - loss: 0.7245 - accuracy: 0.7477\n",
      "Epoch 3/10\n",
      "1563/1563 [==============================] - 38s 24ms/step - loss: 0.6867 - accuracy: 0.7607\n",
      "Epoch 4/10\n",
      "1563/1563 [==============================] - 37s 24ms/step - loss: 0.6431 - accuracy: 0.7743\n",
      "Epoch 5/10\n",
      "1563/1563 [==============================] - 37s 24ms/step - loss: 0.6065 - accuracy: 0.7892\n",
      "Epoch 6/10\n",
      "1563/1563 [==============================] - 37s 24ms/step - loss: 0.5728 - accuracy: 0.8009\n",
      "Epoch 7/10\n",
      "1563/1563 [==============================] - 38s 24ms/step - loss: 0.5395 - accuracy: 0.8109\n",
      "Epoch 8/10\n",
      "1563/1563 [==============================] - 38s 24ms/step - loss: 0.5091 - accuracy: 0.8202\n",
      "Epoch 9/10\n",
      "1563/1563 [==============================] - 38s 24ms/step - loss: 0.4781 - accuracy: 0.8319\n",
      "Epoch 10/10\n",
      "1563/1563 [==============================] - 38s 24ms/step - loss: 0.4557 - accuracy: 0.8381\n"
     ]
    },
    {
     "data": {
      "text/plain": [
       "<keras.src.callbacks.History at 0x18897ec1270>"
      ]
     },
     "execution_count": 54,
     "metadata": {},
     "output_type": "execute_result"
    }
   ],
   "source": [
    "cnn.fit(x_train_scaled, y_train, epochs=10)"
   ]
  },
  {
   "cell_type": "code",
   "execution_count": 56,
   "id": "e060bbcb-97a2-4f4e-bcad-b7ed2971f91c",
   "metadata": {},
   "outputs": [
    {
     "name": "stdout",
     "output_type": "stream",
     "text": [
      "313/313 [==============================] - 3s 9ms/step\n"
     ]
    }
   ],
   "source": [
    "cnn_pred_log = cnn.predict(x_test_scaled)"
   ]
  },
  {
   "cell_type": "code",
   "execution_count": 58,
   "id": "9f9c18d9-b3bb-44c3-8f79-b1a3eff4912a",
   "metadata": {},
   "outputs": [],
   "source": [
    "cnn_pred = cnn_pred_log.argmax(axis=1)"
   ]
  },
  {
   "cell_type": "code",
   "execution_count": 62,
   "id": "240e5d74-445a-4700-b983-232820fc808d",
   "metadata": {},
   "outputs": [],
   "source": [
    "from sklearn.metrics import accuracy_score"
   ]
  },
  {
   "cell_type": "code",
   "execution_count": 63,
   "id": "897e80a3-5ea6-42a3-8222-f9b555c5b436",
   "metadata": {},
   "outputs": [
    {
     "data": {
      "text/plain": [
       "0.6926"
      ]
     },
     "execution_count": 63,
     "metadata": {},
     "output_type": "execute_result"
    }
   ],
   "source": [
    "accuracy_score(y_test, cnn_pred)"
   ]
  },
  {
   "cell_type": "code",
   "execution_count": null,
   "id": "36df4a59-30df-4426-8037-54eb5e88ab6b",
   "metadata": {},
   "outputs": [],
   "source": []
  }
 ],
 "metadata": {
  "kernelspec": {
   "display_name": "Python 3 (ipykernel)",
   "language": "python",
   "name": "python3"
  },
  "language_info": {
   "codemirror_mode": {
    "name": "ipython",
    "version": 3
   },
   "file_extension": ".py",
   "mimetype": "text/x-python",
   "name": "python",
   "nbconvert_exporter": "python",
   "pygments_lexer": "ipython3",
   "version": "3.10.11"
  }
 },
 "nbformat": 4,
 "nbformat_minor": 5
}
