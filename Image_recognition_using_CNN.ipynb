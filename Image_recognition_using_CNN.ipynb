{
 "cells": [
  {
   "cell_type": "markdown",
   "id": "8c6c36f4-a71d-495a-b657-efd411be64ad",
   "metadata": {},
   "source": [
    "# Convolutional Neural Network for Image Classification"
   ]
  },
  {
   "cell_type": "markdown",
   "id": "17080f11-180b-4ef7-b2d7-b49a39469566",
   "metadata": {},
   "source": [
    "# In this project we are going to,\n",
    "1. Load data into our local file from an url.\n",
    "2. Read all the file from local repository using python glob,pathlib and openCV.\n",
    "3. make convert images into numpy array.\n",
    "4. seperating independent and target column.\n",
    "5. Train Test Split\n",
    "6. Build CNN model for prediction\n",
    "7. Analysis the output using Tensorboard and matplotlib.\n",
    "8. Try to imporve the accuracy performing data Augmentation"
   ]
  },
  {
   "cell_type": "code",
   "execution_count": 1,
   "id": "35352afe-8a1b-49e4-88bc-f85c11a50188",
   "metadata": {},
   "outputs": [
    {
     "name": "stdout",
     "output_type": "stream",
     "text": [
      "WARNING:tensorflow:From C:\\Python\\Python10\\lib\\site-packages\\keras\\src\\losses.py:2976: The name tf.losses.sparse_softmax_cross_entropy is deprecated. Please use tf.compat.v1.losses.sparse_softmax_cross_entropy instead.\n",
      "\n"
     ]
    }
   ],
   "source": [
    "import pathlib\n",
    "import numpy as np\n",
    "import matplotlib.pylab as plt\n",
    "from tensorflow import keras\n",
    "from keras import utils\n",
    "import os\n",
    "import pathlib\n",
    "import glob\n",
    "import cv2"
   ]
  },
  {
   "cell_type": "code",
   "execution_count": 2,
   "id": "9c86480b-c15e-4d66-a96d-1df60d922e1e",
   "metadata": {},
   "outputs": [],
   "source": [
    "# Loading data from online url\n",
    "data_url = \"https://storage.googleapis.com/download.tensorflow.org/example_images/flower_photos.tgz\"\n",
    "data_dir = utils.get_file('flower_photos', origin=data_url, cache_dir='.', untar=True)"
   ]
  },
  {
   "cell_type": "code",
   "execution_count": 3,
   "id": "1ed3a5ef-68f0-4566-b432-2a0454c2f164",
   "metadata": {},
   "outputs": [
    {
     "data": {
      "text/plain": [
       "WindowsPath('datasets/flower_photos')"
      ]
     },
     "execution_count": 3,
     "metadata": {},
     "output_type": "execute_result"
    }
   ],
   "source": [
    "path = pathlib.Path(data_dir)\n",
    "path"
   ]
  },
  {
   "cell_type": "code",
   "execution_count": 4,
   "id": "97514972-0df5-4820-b36c-0b2fb4039b8d",
   "metadata": {},
   "outputs": [
    {
     "data": {
      "text/plain": [
       "3670"
      ]
     },
     "execution_count": 4,
     "metadata": {},
     "output_type": "execute_result"
    }
   ],
   "source": [
    "len(list(path.glob('*/*.jpg')))"
   ]
  },
  {
   "cell_type": "code",
   "execution_count": 5,
   "id": "06b62a99-a898-4f15-bc86-d2fa0bfc3d52",
   "metadata": {},
   "outputs": [],
   "source": [
    "# Loading file path's from specific flower folders\n",
    "flowers = {\n",
    "    'roses' : list(path.glob('*roses/*.jpg')),\n",
    "    'daisy' : list(path.glob('*daisy/*.jpg')),\n",
    "    'dandelion': list(path.glob('*dandelion/*.jpg')),\n",
    "    'sunflower': list(path.glob('*sunflowers/*.jpg')),\n",
    "    'tulip': list(path.glob('*tulips/*.jpg')),\n",
    "}"
   ]
  },
  {
   "cell_type": "code",
   "execution_count": 6,
   "id": "1423d24b-ef44-4491-ac3e-5d0d9f8f6c6e",
   "metadata": {},
   "outputs": [],
   "source": [
    "labels = {\n",
    "    'roses' : 0,\n",
    "    'daisy' : 1,\n",
    "    'dandelion': 2,\n",
    "    'sunflower': 3,\n",
    "    'tulip': 4,\n",
    "}"
   ]
  },
  {
   "cell_type": "code",
   "execution_count": 7,
   "id": "93e60f0c-20fe-401e-8017-1b1aefb71dc0",
   "metadata": {},
   "outputs": [],
   "source": [
    "# make numpy array of feature and target\n",
    "x = []\n",
    "y = []\n",
    "\n",
    "for names, flowers_path in flowers.items():\n",
    "    for flower in flowers_path:\n",
    "        image = cv2.imread(str(flower))\n",
    "        image = cv2.resize(image, (180,180))\n",
    "        x.append(image)\n",
    "        y.append(labels[names])\n",
    "        \n",
    "x = np.array(x)\n",
    "y = np.array(y)"
   ]
  },
  {
   "cell_type": "code",
   "execution_count": 8,
   "id": "3c1f44ea-dba4-4cd9-8fed-aa19d407867b",
   "metadata": {},
   "outputs": [],
   "source": [
    "# scaling the image data\n",
    "x = x/255"
   ]
  },
  {
   "cell_type": "code",
   "execution_count": 9,
   "id": "466080ff-3b1b-4f33-baac-d7120bc39323",
   "metadata": {},
   "outputs": [],
   "source": [
    "from keras import layers, models, callbacks"
   ]
  },
  {
   "cell_type": "code",
   "execution_count": 10,
   "id": "35109d72-4ab5-4698-b088-f0cf679bee7d",
   "metadata": {},
   "outputs": [],
   "source": [
    "# Split into train and test set\n",
    "from sklearn.model_selection import train_test_split\n",
    "x_train,x_test,y_train,y_test = train_test_split(x,y,test_size=0.25,random_state=42)"
   ]
  },
  {
   "cell_type": "code",
   "execution_count": 11,
   "id": "bed7c357-106f-4f59-b38e-b6a051b9fa3a",
   "metadata": {},
   "outputs": [],
   "source": [
    "earlystop = callbacks.EarlyStopping(monitor='loss', verbose=1)\n",
    "tensorboard = callbacks.TensorBoard(log_dir='logs/{}'.format('flower_model'))"
   ]
  },
  {
   "cell_type": "code",
   "execution_count": 13,
   "id": "c001fd26-e72e-4788-a91a-9130f5e332eb",
   "metadata": {},
   "outputs": [
    {
     "name": "stdout",
     "output_type": "stream",
     "text": [
      "Epoch 1/100\n",
      "69/69 [==============================] - 13s 156ms/step - loss: 1.4078 - accuracy: 0.3562 - val_loss: 1.2479 - val_accuracy: 0.4664\n",
      "Epoch 2/100\n",
      "69/69 [==============================] - 10s 142ms/step - loss: 1.1630 - accuracy: 0.5216 - val_loss: 1.0870 - val_accuracy: 0.5554\n",
      "Epoch 3/100\n",
      "69/69 [==============================] - 9s 133ms/step - loss: 1.0599 - accuracy: 0.5684 - val_loss: 1.0090 - val_accuracy: 0.5989\n",
      "Epoch 4/100\n",
      "69/69 [==============================] - 8s 122ms/step - loss: 0.9679 - accuracy: 0.6202 - val_loss: 0.9398 - val_accuracy: 0.6279\n",
      "Epoch 5/100\n",
      "69/69 [==============================] - 8s 122ms/step - loss: 0.9188 - accuracy: 0.6383 - val_loss: 0.9299 - val_accuracy: 0.6116\n",
      "Epoch 6/100\n",
      "69/69 [==============================] - 9s 132ms/step - loss: 0.8702 - accuracy: 0.6529 - val_loss: 0.8764 - val_accuracy: 0.6751\n",
      "Epoch 7/100\n",
      "69/69 [==============================] - 9s 129ms/step - loss: 0.8376 - accuracy: 0.6756 - val_loss: 0.8487 - val_accuracy: 0.6715\n",
      "Epoch 8/100\n",
      "69/69 [==============================] - 9s 129ms/step - loss: 0.7841 - accuracy: 0.7010 - val_loss: 0.8369 - val_accuracy: 0.6806\n",
      "Epoch 9/100\n",
      "69/69 [==============================] - 9s 130ms/step - loss: 0.7347 - accuracy: 0.7229 - val_loss: 0.8442 - val_accuracy: 0.6788\n",
      "Epoch 10/100\n",
      "69/69 [==============================] - 9s 131ms/step - loss: 0.7443 - accuracy: 0.7183 - val_loss: 0.8372 - val_accuracy: 0.6661\n",
      "Epoch 10: early stopping\n"
     ]
    }
   ],
   "source": [
    "cnn = models.Sequential([\n",
    "    layers.Conv2D(filters=16, activation='relu', padding='same', kernel_size=(3,3), input_shape=(180, 180, 3)),\n",
    "    layers.MaxPooling2D((3,3)),\n",
    "    layers.Conv2D(filters=32, activation='relu', padding='same',kernel_size=(3,3)),\n",
    "    layers.MaxPooling2D((3,3)),\n",
    "    layers.Conv2D(filters=64, activation='relu', padding='same',kernel_size=(3,3)),\n",
    "    layers.MaxPooling2D((3,3)),\n",
    "    layers.Dropout(0.5),\n",
    "    layers.Flatten(),\n",
    "\n",
    "    layers.Dense(150, activation='relu'),\n",
    "    layers.Dropout(0.5),\n",
    "    layers.Dense(5, activation='softmax')\n",
    "])\n",
    "cnn.compile(loss='sparse_categorical_crossentropy', optimizer='adam', metrics=['accuracy'])\n",
    "history = cnn.fit(x_train,y_train,epochs=100, callbacks=[earlystop, tensorboard], validation_split=0.2)"
   ]
  },
  {
   "cell_type": "code",
   "execution_count": 14,
   "id": "c1d6b90f-6402-434c-843d-4341ddba4be8",
   "metadata": {},
   "outputs": [
    {
     "name": "stdout",
     "output_type": "stream",
     "text": [
      "29/29 [==============================] - 2s 36ms/step\n"
     ]
    }
   ],
   "source": [
    "y_log = cnn.predict(x_test)"
   ]
  },
  {
   "cell_type": "code",
   "execution_count": 15,
   "id": "c0e970c0-0d8f-410c-97f9-ba624a6969ca",
   "metadata": {},
   "outputs": [],
   "source": [
    "y_pred = y_log.argmax(axis=1)"
   ]
  },
  {
   "cell_type": "code",
   "execution_count": 16,
   "id": "ee5d96f1-16c4-46f3-ba7c-d67e6ad224a4",
   "metadata": {},
   "outputs": [],
   "source": [
    "from sklearn.metrics import accuracy_score"
   ]
  },
  {
   "cell_type": "code",
   "execution_count": 17,
   "id": "5b5978bb-c46e-4c9d-9b0e-dadb7fbfca42",
   "metadata": {},
   "outputs": [
    {
     "data": {
      "text/plain": [
       "0.6928104575163399"
      ]
     },
     "execution_count": 17,
     "metadata": {},
     "output_type": "execute_result"
    }
   ],
   "source": [
    "accuracy_score(y_test,y_pred)"
   ]
  },
  {
   "cell_type": "code",
   "execution_count": 18,
   "id": "0c615ba0-4425-4495-99e2-93bc66329731",
   "metadata": {},
   "outputs": [
    {
     "data": {
      "image/png": "[encoded data removed]",
      "text/plain": [
       "<Figure size 640x480 with 1 Axes>"
      ]
     },
     "metadata": {},
     "output_type": "display_data"
    }
   ],
   "source": [
    "plt.plot(history.history['loss'])\n",
    "plt.plot(history.history['val_loss'])\n",
    "plt.show()"
   ]
  },
  {
   "cell_type": "code",
   "execution_count": 19,
   "id": "926cc33b-a541-4f85-b1bf-b8341abd2fa4",
   "metadata": {},
   "outputs": [
    {
     "data": {
      "image/png": "[encoded data removed]",
      "text/plain": [
       "<Figure size 640x480 with 1 Axes>"
      ]
     },
     "metadata": {},
     "output_type": "display_data"
    }
   ],
   "source": [
    "plt.plot(history.history['accuracy'])\n",
    "plt.plot(history.history['val_accuracy'])\n",
    "plt.show()"
   ]
  },
  {
   "cell_type": "code",
   "execution_count": 76,
   "id": "1ad4c80f-85b1-4253-a95f-b33403cec285",
   "metadata": {},
   "outputs": [
    {
     "data": {
      "text/plain": [
       "(2752, 180, 180, 3)"
      ]
     },
     "execution_count": 76,
     "metadata": {},
     "output_type": "execute_result"
    }
   ],
   "source": [
    "x_train.shape"
   ]
  },
  {
   "cell_type": "markdown",
   "id": "379675ac-7f65-4274-aef3-1189875ecb48",
   "metadata": {},
   "source": [
    "# Performing Data Augmentation"
   ]
  },
  {
   "cell_type": "code",
   "execution_count": 77,
   "id": "1606fe56-1304-4d50-b8d4-1eee32c05957",
   "metadata": {},
   "outputs": [],
   "source": [
    "data_augmentation = keras.Sequential(\n",
    "  [\n",
    "    layers.experimental.preprocessing.RandomFlip(\"horizontal\",input_shape=(180, 180, 3)),\n",
    "    layers.experimental.preprocessing.RandomRotation(0.1),\n",
    "    layers.experimental.preprocessing.RandomZoom(0.1),\n",
    "  ]\n",
    ")"
   ]
  },
  {
   "cell_type": "code",
   "execution_count": 90,
   "id": "77d10ebd-c5de-40e4-837e-b197e2c66989",
   "metadata": {},
   "outputs": [
    {
     "name": "stdout",
     "output_type": "stream",
     "text": [
      "Epoch 1/100\n",
      "69/69 [==============================] - 30s 330ms/step - loss: 1.4391 - accuracy: 0.3458 - val_loss: 1.1564 - val_accuracy: 0.4610\n",
      "Epoch 2/100\n",
      "69/69 [==============================] - 16s 239ms/step - loss: 1.1581 - accuracy: 0.5216 - val_loss: 1.0835 - val_accuracy: 0.5554\n",
      "Epoch 3/100\n",
      "69/69 [==============================] - 16s 238ms/step - loss: 1.0813 - accuracy: 0.5607 - val_loss: 0.9715 - val_accuracy: 0.6025\n",
      "Epoch 4/100\n",
      "69/69 [==============================] - 17s 248ms/step - loss: 0.9987 - accuracy: 0.5993 - val_loss: 0.9640 - val_accuracy: 0.6007\n",
      "Epoch 5/100\n",
      "69/69 [==============================] - 18s 268ms/step - loss: 0.9847 - accuracy: 0.6065 - val_loss: 0.9696 - val_accuracy: 0.5953\n",
      "Epoch 6/100\n",
      "69/69 [==============================] - 18s 268ms/step - loss: 0.9359 - accuracy: 0.6415 - val_loss: 0.9112 - val_accuracy: 0.6461\n",
      "Epoch 7/100\n",
      "69/69 [==============================] - 17s 247ms/step - loss: 0.9137 - accuracy: 0.6465 - val_loss: 0.8459 - val_accuracy: 0.6425\n",
      "Epoch 8/100\n",
      "69/69 [==============================] - 17s 242ms/step - loss: 0.8756 - accuracy: 0.6679 - val_loss: 0.8230 - val_accuracy: 0.6770\n",
      "Epoch 9/100\n",
      "69/69 [==============================] - 17s 240ms/step - loss: 0.8531 - accuracy: 0.6642 - val_loss: 0.9282 - val_accuracy: 0.6334\n",
      "Epoch 10/100\n",
      "69/69 [==============================] - 17s 247ms/step - loss: 0.8331 - accuracy: 0.6870 - val_loss: 0.8496 - val_accuracy: 0.6588\n",
      "Epoch 11/100\n",
      "69/69 [==============================] - 18s 268ms/step - loss: 0.8110 - accuracy: 0.6888 - val_loss: 0.8785 - val_accuracy: 0.6370\n",
      "Epoch 12/100\n",
      "69/69 [==============================] - 19s 270ms/step - loss: 0.8080 - accuracy: 0.6901 - val_loss: 0.7945 - val_accuracy: 0.7042\n",
      "Epoch 13/100\n",
      "69/69 [==============================] - 17s 250ms/step - loss: 0.7662 - accuracy: 0.7142 - val_loss: 0.8301 - val_accuracy: 0.6751\n",
      "Epoch 14/100\n",
      "69/69 [==============================] - 18s 258ms/step - loss: 0.7418 - accuracy: 0.7179 - val_loss: 0.7774 - val_accuracy: 0.6987\n",
      "Epoch 15/100\n",
      "69/69 [==============================] - 17s 245ms/step - loss: 0.7219 - accuracy: 0.7201 - val_loss: 0.7818 - val_accuracy: 0.6951\n",
      "Epoch 16/100\n",
      "69/69 [==============================] - 17s 246ms/step - loss: 0.7255 - accuracy: 0.7338 - val_loss: 0.8062 - val_accuracy: 0.6842\n",
      "Epoch 16: early stopping\n"
     ]
    }
   ],
   "source": [
    "cnn = models.Sequential([\n",
    "    data_augmentation,\n",
    "    layers.Conv2D(filters=16, activation='relu', padding='same',kernel_size=(3,3)),\n",
    "    layers.MaxPooling2D((3,3)),\n",
    "    layers.Conv2D(filters=32, activation='relu', padding='same',kernel_size=(3,3)),\n",
    "    layers.MaxPooling2D((3,3)),\n",
    "    layers.Conv2D(filters=64, activation='relu', padding='same',kernel_size=(3,3)),\n",
    "    layers.MaxPooling2D((3,3)),\n",
    "    layers.Dropout(0.5),\n",
    "    layers.Flatten(),\n",
    "\n",
    "    layers.Dense(150, activation='relu'),\n",
    "    layers.Dropout(0.5),\n",
    "    layers.Dense(5, activation='softmax')\n",
    "])\n",
    "cnn.compile(loss='sparse_categorical_crossentropy', optimizer='adam', metrics=['accuracy'])\n",
    "history = cnn.fit(x_train,y_train,epochs=100, callbacks=earlystop, validation_split=0.2)"
   ]
  },
  {
   "cell_type": "code",
   "execution_count": 91,
   "id": "5c117f89-fb6c-41e6-b35f-79c91f5b9ebb",
   "metadata": {},
   "outputs": [
    {
     "name": "stdout",
     "output_type": "stream",
     "text": [
      "29/29 [==============================] - 1s 34ms/step\n"
     ]
    }
   ],
   "source": [
    "y_log = cnn.predict(x_test)"
   ]
  },
  {
   "cell_type": "code",
   "execution_count": 92,
   "id": "998d2e67-8ad8-4a42-a056-9e4bcad2c95d",
   "metadata": {},
   "outputs": [],
   "source": [
    "y_pred = y_log.argmax(axis=1)"
   ]
  },
  {
   "cell_type": "code",
   "execution_count": 93,
   "id": "0ee4499a-f203-4459-8563-d1bec1ed226c",
   "metadata": {},
   "outputs": [
    {
     "data": {
      "text/plain": [
       "0.7026143790849673"
      ]
     },
     "execution_count": 93,
     "metadata": {},
     "output_type": "execute_result"
    }
   ],
   "source": [
    "accuracy_score(y_test,y_pred)"
   ]
  },
  {
   "cell_type": "code",
   "execution_count": 94,
   "id": "d10f9514-d8d6-4d40-807b-f4b7285e722c",
   "metadata": {},
   "outputs": [
    {
     "data": {
      "image/png": "[encoded data removed]",
      "text/plain": [
       "<Figure size 640x480 with 1 Axes>"
      ]
     },
     "metadata": {},
     "output_type": "display_data"
    }
   ],
   "source": [
    "plt.plot(history.history['loss'])\n",
    "plt.plot(history.history['val_loss'])\n",
    "plt.show()"
   ]
  },
  {
   "cell_type": "code",
   "execution_count": null,
   "id": "c2f2ef0a-9319-451f-9730-40a1bf6ca3ea",
   "metadata": {},
   "outputs": [],
   "source": []
  }
 ],
 "metadata": {
  "kernelspec": {
   "display_name": "Python 3 (ipykernel)",
   "language": "python",
   "name": "python3"
  },
  "language_info": {
   "codemirror_mode": {
    "name": "ipython",
    "version": 3
   },
   "file_extension": ".py",
   "mimetype": "text/x-python",
   "name": "python",
   "nbconvert_exporter": "python",
   "pygments_lexer": "ipython3",
   "version": "3.10.11"
  }
 },
 "nbformat": 4,
 "nbformat_minor": 5
}
